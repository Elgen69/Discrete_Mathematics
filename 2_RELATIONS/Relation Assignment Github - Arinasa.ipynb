{
 "cells": [
  {
   "cell_type": "markdown",
   "metadata": {},
   "source": [
    "### Relations Assignment - Elgen Mar Arinasa - Group 6 - BSCS - 1 - Discrete Math 1"
   ]
  },
  {
   "cell_type": "markdown",
   "metadata": {},
   "source": [
    "### <font color=red>ASSIGNMENT</font>\n",
    "---\n",
    "- Create a python function that will determine if a set is transitive or not."
   ]
  },
  {
   "cell_type": "markdown",
   "metadata": {},
   "source": [
    "A ={1, 2, 3, 4,5}\n",
    "\n",
    "R1 = {{1, 3}, {2, 2}, {5, 1}, {1, 2}, {4, 1}, {2, 3}, {3, 2}}<br>\n",
    "R2 = {{1, 1}, {2, 2}, {3, 3}, {4, 4}, {5, 5}}<br>\n",
    "R3 = {{2, 1}, {3, 2}}<br>\n",
    "R4 = AxA = {{1, 1}, {1, 2}, {1, 3}, {1, 4}, {1, 5}, {2, 1}, {2, 2}, {2, 3}, {2, 4}, {2, 5}, {3, 1}, {3, 2}, {3, 3}, {3, 4}, {3, 5}, {4, 1}, {4, 2}, {4, 3}, {4, 4}, {4, 5}, {5, 1}, {5, 2}, {5, 3}, {5, 4}, {5, 5}}<br>\n",
    "R5 = {{4, 3}, {2, 4}, {5, 1}}<br>\n",
    "R6 = {{1, 5}, {3, 4}, {2, 3}}<br>\n",
    "R7 = {{5, 5}, {3, 1}, {4, 2}}<br>\n",
    "R8 = {{1, 4}, {4, 5}, {2, 2}, {3, 3}}<br>"
   ]
  },
  {
   "cell_type": "markdown",
   "metadata": {},
   "source": [
    "# Answer $\\rightarrow$"
   ]
  },
  {
   "cell_type": "code",
   "execution_count": 5,
   "metadata": {},
   "outputs": [
    {
     "name": "stdout",
     "output_type": "stream",
     "text": [
      "{(2, 3), (1, 2), (4, 1), (2, 2), (3, 2), (1, 3), (5, 1)}\n",
      "  transitive:  False\n",
      "{(4, 4), (5, 5), (3, 3), (2, 2), (1, 1)}\n",
      "  transitive:  True\n",
      "{(3, 2), (2, 1)}\n",
      "  transitive:  False\n",
      "{(3, 4), (4, 3), (3, 1), (5, 4), (5, 1), (2, 2), (2, 5), (1, 3), (4, 2), (4, 5), (3, 3), (5, 3), (2, 4), (1, 2), (2, 1), (1, 5), (3, 2), (4, 1), (3, 5), (5, 2), (4, 4), (5, 5), (1, 1), (1, 4), (2, 3)}\n",
      "  transitive:  True\n",
      "{(2, 4), (5, 1), (4, 3)}\n",
      "  transitive:  False\n",
      "{(2, 3), (3, 4), (1, 5)}\n",
      "  transitive:  False\n",
      "{(3, 1), (5, 5), (4, 2)}\n",
      "  transitive:  True\n",
      "{(4, 5), (3, 3), (1, 4), (2, 2)}\n",
      "  transitive:  False\n"
     ]
    }
   ],
   "source": [
    "def transitive(Relation):\n",
    "    for a, b in Relation:\n",
    "        for c, d in Relation:\n",
    "            if b == c:\n",
    "                if (a,d) not in Relation:\n",
    "                    return False    \n",
    "    return True\n",
    "\n",
    "A ={1, 2, 3, 4, 5}\n",
    "R1 = {(1, 3), (2, 2), (5, 1), (1, 2), (4, 1), (2, 3), (3, 2)}\n",
    "R2 = {(1, 1), (2, 2), (3, 3), (4, 4), (5, 5)}\n",
    "R3 = {(2, 1), (3, 2)}\n",
    "R4 = {(a,b) for a in A for b in A}\n",
    "R5 = {(4, 3), (2, 4), (5, 1)}\n",
    "R6 = {(1, 5), (3, 4), (2, 3)}\n",
    "R7 = {(5, 5), (3, 1), (4, 2)}\n",
    "R8 = {(1, 4), (4, 5), (2, 2), (3, 3)}\n",
    "\n",
    "for R in [R1, R2, R3, R4, R5, R6, R7, R8]:\n",
    "    print(R)\n",
    "    print(\"  transitive: \", transitive(R))\n"
   ]
  },
  {
   "cell_type": "markdown",
   "metadata": {},
   "source": [
    "## Defining Symmetry Function"
   ]
  },
  {
   "cell_type": "code",
   "execution_count": 4,
   "metadata": {},
   "outputs": [
    {
     "name": "stdout",
     "output_type": "stream",
     "text": [
      "{(2, 3), (1, 2), (4, 1), (2, 2), (3, 2), (1, 3), (5, 1)}\n",
      "  Symmetric  False\n",
      "{(4, 4), (5, 5), (3, 3), (2, 2), (1, 1)}\n",
      "  Symmetric  True\n",
      "{(3, 2), (2, 1)}\n",
      "  Symmetric  False\n",
      "{(3, 4), (4, 3), (3, 1), (5, 4), (5, 1), (2, 2), (2, 5), (1, 3), (4, 2), (4, 5), (3, 3), (5, 3), (2, 4), (1, 2), (2, 1), (1, 5), (3, 2), (4, 1), (3, 5), (5, 2), (4, 4), (5, 5), (1, 1), (1, 4), (2, 3)}\n",
      "  Symmetric  True\n",
      "{(2, 4), (5, 1), (4, 3)}\n",
      "  Symmetric  False\n",
      "{(2, 3), (3, 4), (1, 5)}\n",
      "  Symmetric  False\n",
      "{(3, 1), (5, 5), (4, 2)}\n",
      "  Symmetric  False\n",
      "{(4, 5), (3, 3), (1, 4), (2, 2)}\n",
      "  Symmetric  False\n"
     ]
    }
   ],
   "source": [
    "def symmetric(R):\n",
    "    for (a, b) in R:\n",
    "        if (b, a) not in R:\n",
    "            return False\n",
    "    return True\n",
    "\n",
    "A ={1, 2, 3, 4, 5}\n",
    "R1 = {(1, 3), (2, 2), (5, 1), (1, 2), (4, 1), (2, 3), (3, 2)}\n",
    "R2 = {(1, 1), (2, 2), (3, 3), (4, 4), (5, 5)}\n",
    "R3 = {(2, 1), (3, 2)}\n",
    "R4 = {(a,b) for a in A for b in A}\n",
    "R5 = {(4, 3), (2, 4), (5, 1)}\n",
    "R6 = {(1, 5), (3, 4), (2, 3)}\n",
    "R7 = {(5, 5), (3, 1), (4, 2)}\n",
    "R8 = {(1, 4), (4, 5), (2, 2), (3, 3)}\n",
    "\n",
    "for R in [R1, R2, R3, R4, R5, R6, R7, R8]:\n",
    "    print(R)\n",
    "    print(\"  Symmetric \", symmetric(R))"
   ]
  },
  {
   "cell_type": "markdown",
   "metadata": {},
   "source": [
    "## Defining Reflexivity Function"
   ]
  },
  {
   "cell_type": "code",
   "execution_count": 2,
   "metadata": {},
   "outputs": [
    {
     "name": "stdout",
     "output_type": "stream",
     "text": [
      "{(2, 3), (1, 2), (4, 1), (2, 2), (3, 2), (1, 3), (5, 1)}\n",
      "  Reflexive  False\n",
      "{(4, 4), (5, 5), (3, 3), (2, 2), (1, 1)}\n",
      "  Reflexive  True\n",
      "{(3, 2), (2, 1)}\n",
      "  Reflexive  False\n",
      "{(3, 4), (4, 3), (3, 1), (5, 4), (5, 1), (2, 2), (2, 5), (1, 3), (4, 2), (4, 5), (3, 3), (5, 3), (2, 4), (1, 2), (2, 1), (1, 5), (3, 2), (4, 1), (3, 5), (5, 2), (4, 4), (5, 5), (1, 1), (1, 4), (2, 3)}\n",
      "  Reflexive  True\n",
      "{(2, 4), (5, 1), (4, 3)}\n",
      "  Reflexive  False\n",
      "{(2, 3), (3, 4), (1, 5)}\n",
      "  Reflexive  False\n",
      "{(3, 1), (5, 5), (4, 2)}\n",
      "  Reflexive  False\n",
      "{(4, 5), (3, 3), (1, 4), (2, 2)}\n",
      "  Reflexive  False\n"
     ]
    }
   ],
   "source": [
    "def reflexive(R, A):\n",
    "    for a in A:\n",
    "        if (a, a) not in R:\n",
    "            return False\n",
    "    return True\n",
    "\n",
    "A ={1, 2, 3, 4, 5}\n",
    "R1 = {(1, 3), (2, 2), (5, 1), (1, 2), (4, 1), (2, 3), (3, 2)}\n",
    "R2 = {(1, 1), (2, 2), (3, 3), (4, 4), (5, 5)}\n",
    "R3 = {(2, 1), (3, 2)}\n",
    "R4 = {(a,b) for a in A for b in A}\n",
    "R5 = {(4, 3), (2, 4), (5, 1)}\n",
    "R6 = {(1, 5), (3, 4), (2, 3)}\n",
    "R7 = {(5, 5), (3, 1), (4, 2)}\n",
    "R8 = {(1, 4), (4, 5), (2, 2), (3, 3)}\n",
    "\n",
    "for R in [R1, R2, R3, R4, R5, R6, R7, R8]:\n",
    "    print(R)\n",
    "    print(\"  Reflexive \", reflexive(R, A))"
   ]
  },
  {
   "cell_type": "markdown",
   "metadata": {},
   "source": [
    "# Assignments\n",
    "---\n",
    "### Instructions:\n",
    "#### 1. Use Latex programming to show your solution.\n",
    "#### 2. For problems requiring the identification of reflexive, symmetric, and transitive properties of relation, show both manual solution via latex, and the solution using your python function.\n",
    "---\n",
    "# Given $\\rightarrow$\n",
    "* Given $A = \\{1,2,3,4\\}$ and $B=\\{x,y,z\\}$. Let $R$ be a relation from $A \\to B$:\n",
    "\\begin{equation}\n",
    "{R} = \\{\n",
    "\\{1,y\\},\\{1,z\\},\\{3,y\\},\\{4,x\\},\\{4,z\\}\n",
    "\\}\n",
    "\\end{equation}\n",
    "1. Find all $aRb$.\n",
    "2. Find $R^{-1}$.\n",
    "3. Determine the domain and range of $R$.\n",
    "4. Check if $R$ is a reflexive relation.\n",
    "5. Check if $R$ is a symmetric relation."
   ]
  },
  {
   "cell_type": "markdown",
   "metadata": {},
   "source": [
    "* Given $A = \\{1,2,3,4\\}$,$B=\\{a,b,c\\}$, and $C=\\{x,y,z\\}$ . Let $R$ be a relation from $A \\to B$:\n",
    "\\begin{equation}\n",
    "\\textbf{R} = \\{\n",
    "\\{1,b\\},\\{2,a\\},\\{2,c\\}\n",
    "\\}\n",
    "\\end{equation}\n",
    "<br>\n",
    "\n",
    "Also Let $S$ be a relation from $B \\to C$:\n",
    "\\begin{equation}\n",
    "\\textbf{S} = \\{\n",
    "\\{a,y\\},\\{b,x\\},\\{c,y\\},,\\{c,z\\}\n",
    "\\}\n",
    "\\end{equation}\n",
    "1. Find the composition relation $\\textbf{R}\\circ\\textbf{S}$.\n",
    "2. Find $R^{-1}$.\n",
    "3. Find $S^{-1}$.\n",
    "4. Determine the domain and range of $R$.\n",
    "5. Check if $R$ is a reflexive relation.\n",
    "6. Check if $R$ is a symmetric relation.\n",
    "7. Determine the domain and range of $S$.\n",
    "8. Check if $S$ is a reflexive relation.\n",
    "9. Check if $S$ is a symmetric relation."
   ]
  },
  {
   "cell_type": "markdown",
   "metadata": {},
   "source": [
    "1. \n",
    "- For {1,b} $\\in$ R = aRb, {b,x} $\\in$ S = bRc. $\\quad \\therefore$ R $\\circ$ S, aRc = {1,x}\n",
    "- For {2,a} $\\in$ R = aRb, {a,y} $\\in$ S = bRc. $\\quad \\therefore$ R $\\circ$ S, aRc = {2,y}\n",
    "- For {2,c} $\\in$ R = aRb, {c,y}, {c,z} $\\in$ S = bRc. $\\quad \\therefore$ R $\\circ$ S, aRc = {2,y}, {2,z}\n",
    "- R  $\\circ$ S = {{1,x}, {2,y}, {2,z}}\n",
    "<br>\n",
    "\n",
    "2. \n",
    "- R = {{1,b}, {2,a}, {2,c}}\n",
    "- R $^{-1}$ = {{b,1}, {a,2}, {c,2}}\n",
    "\n",
    "<br>\n",
    "\n",
    "3. \n",
    "- S = {{a,y}, {b,x}, {c,y}, {c,z}} \n",
    "- S $^{-1}$ = {{y,a}, {x,b}, {y,c}, {z,c}}\n",
    "\n",
    "4. Determine the domain and range of $R$.\n",
    "  - {1,b}: domain a is 1 and range b is b.\n",
    "  - {2,a}: domain a is 2 and range b is a.\n",
    "  - {2,c}: domain a is 2 and range b is c.\n",
    "- The Domain is {1, 2}\n",
    "- The Range is {a, b, c}\n"
   ]
  },
  {
   "cell_type": "markdown",
   "metadata": {},
   "source": [
    "5. $\\LaTeX$ Solution:\n",
    "A relation $\\textbf{R}$ is reflexive $\\iff a\\textbf{R}a  \\ \\forall \\ a \\in A$.\n",
    "- For element 1, does $a\\textbf{R}a$ = {1,1} exist? No.\n",
    "- $R$ is not reflexive."
   ]
  },
  {
   "cell_type": "code",
   "execution_count": 3,
   "metadata": {},
   "outputs": [
    {
     "name": "stdout",
     "output_type": "stream",
     "text": [
      "A =  {1, 2, 3, 4}\n",
      "B =  {'b', 'a', 'c'}\n",
      "C =  {'x', 'y'}\n",
      "R =  {(2, 'a'), (1, 'b'), (2, 'c')}\n",
      "Is the relation reflexive in A?:  False\n",
      "Is the relation reflexive in B?:  False\n",
      "Is the relation reflexive in C?:  False\n"
     ]
    }
   ],
   "source": [
    "A = {1,2,3,4}\n",
    "B = {'a','b','c'}\n",
    "C = {'x','y','x'}\n",
    "R = {(1,'b'),(2,'a'),(2,'c')}\n",
    "S = {('a','y'),('b','x'),('c','y'),('c','z')}\n",
    "print(\"A = \",A)\n",
    "print(\"B = \",B)\n",
    "print(\"C = \",C)\n",
    "print(\"R = \",R)\n",
    "print(\"Is the relation reflexive in A?: \", reflexive(R,A))\n",
    "print(\"Is the relation reflexive in B?: \", reflexive(R,B))\n",
    "print(\"Is the relation reflexive in C?: \", reflexive(R,C))"
   ]
  },
  {
   "cell_type": "markdown",
   "metadata": {},
   "source": [
    "6. $\\LaTeX$ Solution:\n",
    "- For symmetry, for every $a\\textbf{R}b$ then $b\\textbf{R}a$ must exist.\n",
    "- For ordered pair {1,b}, does $b\\textbf{R}a$ = {b,1} exist? No.\n",
    "- $R$ is not symmetric."
   ]
  },
  {
   "cell_type": "markdown",
   "metadata": {},
   "source": [
    "6. $Pythonic$ Solution:"
   ]
  },
  {
   "cell_type": "code",
   "execution_count": 6,
   "metadata": {},
   "outputs": [
    {
     "name": "stdout",
     "output_type": "stream",
     "text": [
      "R =  {(4, 5), (3, 3), (1, 4), (2, 2)}\n",
      "Is the relation R symmetric?: False\n"
     ]
    }
   ],
   "source": [
    "print(\"R = \",R)\n",
    "print(\"Is the relation R symmetric?:\", symmetric(R))"
   ]
  },
  {
   "cell_type": "markdown",
   "metadata": {},
   "source": [
    "7. Determine the domain and range of $S$.\n",
    "  - {a,y}: domain a is a and range b is y.\n",
    "  - {b,x}: domain a is b and range b is x.\n",
    "  - {c,y}: domain a is c and range b is y.\n",
    "  - {c,z}: domain a is c and range b is z.\n",
    "- The Domain is {a, b, c}\n",
    "- The Range is {x, y, z}"
   ]
  },
  {
   "cell_type": "markdown",
   "metadata": {},
   "source": [
    "8. $\\LaTeX$ Solution: relation $\\textbf{S}$ is reflexive $\\iff a\\textbf{S}a  \\ \\forall \\ a \\in A$.\n",
    "- For element a, does $a\\textbf{S}a$ = {a,a} exist? No.\n",
    "- $S$ is not reflexive.\n",
    "\n"
   ]
  },
  {
   "cell_type": "code",
   "execution_count": 7,
   "metadata": {},
   "outputs": [
    {
     "name": "stdout",
     "output_type": "stream",
     "text": [
      "A =  {1, 2, 3, 4, 5}\n",
      "B =  {'b', 'a', 'c'}\n",
      "C =  {'x', 'y'}\n",
      "S =  {('c', 'z'), ('a', 'y'), ('b', 'x'), ('c', 'y')}\n",
      "Is the relation S reflexive in A?:  False\n",
      "Is the relation S reflexive in B?:  False\n",
      "Is the relation S reflexive in C?:  False\n"
     ]
    }
   ],
   "source": [
    "print(\"A = \",A)\n",
    "print(\"B = \",B)\n",
    "print(\"C = \",C)\n",
    "print(\"S = \",S)\n",
    "print(\"Is the relation S reflexive in A?: \",reflexive(R,A))\n",
    "print(\"Is the relation S reflexive in B?: \",reflexive(R,B))\n",
    "print(\"Is the relation S reflexive in C?: \",reflexive(R,C))"
   ]
  },
  {
   "cell_type": "markdown",
   "metadata": {},
   "source": [
    "9. $\\LaTeX$ Solution: For symmetry, for every $a\\textbf{S}b$ then $b\\textbf{S}a$ must exist.\n",
    "- For ordered pair {a,y}, does $b\\textbf{S}a$ = {y,a} exist? No.\n",
    "- $S$ is not symmetric."
   ]
  },
  {
   "cell_type": "markdown",
   "metadata": {},
   "source": [
    "9. $Python$ Solution:"
   ]
  },
  {
   "cell_type": "code",
   "execution_count": 8,
   "metadata": {},
   "outputs": [
    {
     "name": "stdout",
     "output_type": "stream",
     "text": [
      "S = S {('c', 'z'), ('a', 'y'), ('b', 'x'), ('c', 'y')}\n",
      "Is relation S symmetric?:  False\n"
     ]
    }
   ],
   "source": [
    "print(\"S = S\",S)\n",
    "print(\"Is relation S symmetric?: \",symmetric(S))"
   ]
  },
  {
   "cell_type": "markdown",
   "metadata": {},
   "source": [
    "# Given $\\rightarrow$"
   ]
  },
  {
   "cell_type": "markdown",
   "metadata": {},
   "source": [
    "* Given $A = \\{1,2,3,4\\}$. Let $R$ be a relation from $A \\to B$:\n",
    "\\begin{equation}\n",
    "\\textbf{R} = \\{\n",
    "\\{1,1\\},\\{2,2\\},\\{2,3\\},\\{3,2\\},\\{4,2\\},\\{4,4\\}\n",
    "\\}\n",
    "\\end{equation}\n",
    "<br>\n",
    "\n",
    "1. Find the composition relation $\\textbf{R}\\circ\\textbf{R}$.<br>\n",
    "2. Draw the directed graph of $R^{-1}$.\n",
    "3. Draw the directed graph of $R$."
   ]
  }
 ],
 "metadata": {
  "kernelspec": {
   "display_name": "Python 3",
   "language": "python",
   "name": "python3"
  },
  "language_info": {
   "codemirror_mode": {
    "name": "ipython",
    "version": 3
   },
   "file_extension": ".py",
   "mimetype": "text/x-python",
   "name": "python",
   "nbconvert_exporter": "python",
   "pygments_lexer": "ipython3",
   "version": "3.11.6"
  }
 },
 "nbformat": 4,
 "nbformat_minor": 2
}
