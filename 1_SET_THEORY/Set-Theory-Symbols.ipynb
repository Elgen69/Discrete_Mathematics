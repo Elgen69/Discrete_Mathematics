{
 "cells": [
  {
   "cell_type": "markdown",
   "id": "36623f40-de2c-47a2-a0fa-fefe5614b7ad",
   "metadata": {},
   "source": [
    "# Glossary of Set Theory Symbols\n",
    "\n",
    "### Copy paste it to your file, so you don't have to keep switching tabs \n",
    "$ \\epsilon $ - \\epsilon    \n",
    "$\\ni$ - \\ni  \n",
    "$\\notin$ - \\notin  \n",
    "$\\textless$ - \\textless  \n",
    "$\\textgreater$ - \\textgreater  \n",
    "$\\geq$ - \\geq  \n",
    "$\\leq$ - \\leq  \n",
    "$\\iff$ - \\iff  \n",
    "$\\vee$ - \\vee  \n",
    "$\\wedge$ - \\wedge  \n",
    "$\\forall$ - \\forall  \n",
    "$\\rightarrow$ - \\rightarrow  \n",
    "$\\leftarrow$ - \\leftarrow  \n",
    "$\\cup$ - \\cup  \n",
    "$\\cap$ - \\cap  \n",
    "$\\subseteq$ - \\subseteq  \n",
    "$\\supseteq$ - \\supseteq  \n",
    "$\\subset$ - \\subset  \n",
    "$\\supset$ - \\supset  \n",
    "$\\nsubseteq$ - \\nsubseteq  \n",
    "$\\nsupseteq$ - \\nsupseteq  \n",
    "$\\exists$ - \\exists  \n",
    "$\\textbf{U}$  - \\textbf{U}  \n",
    "$\\textbf{R}$  - \\textbf{R}  \n",
    "$\\textbf{Z}$  - \\textbf{Z}  \n",
    "$\\emptyset$ - \\emptyset  \n",
    "$\\oplus$ - \\oplus  \n",
    "$\\neg$ - \\neg  \n",
    "$\\neq$ - \\neq  \n",
    "$\\therefore$ - \\therefore"
   ]
  },
  {
   "cell_type": "code",
   "execution_count": null,
   "id": "631509cd-e85c-4479-8784-a67b75f8a148",
   "metadata": {},
   "outputs": [],
   "source": []
  }
 ],
 "metadata": {
  "kernelspec": {
   "display_name": "Python 3 (ipykernel)",
   "language": "python",
   "name": "python3"
  },
  "language_info": {
   "codemirror_mode": {
    "name": "ipython",
    "version": 3
   },
   "file_extension": ".py",
   "mimetype": "text/x-python",
   "name": "python",
   "nbconvert_exporter": "python",
   "pygments_lexer": "ipython3",
   "version": "3.11.4"
  }
 },
 "nbformat": 4,
 "nbformat_minor": 5
}
